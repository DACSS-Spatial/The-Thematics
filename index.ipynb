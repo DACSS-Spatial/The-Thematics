{
 "cells": [
  {
   "cell_type": "markdown",
   "metadata": {
    "id": "Rq_-jS9HtUU-"
   },
   "source": [
    "<center><img src=\"https://github.com/DACSS-Spatial/data_forSpatial/raw/main/logo.png\" width=\"700\"></center>\n",
    "\n",
    "\n",
    "<a target=\"_blank\" href=\"https://colab.research.google.com/github/DACSS-Spatial/The-Thematics/blob/main/index.ipynb\">\n",
    "  <img src=\"https://colab.research.google.com/assets/colab-badge.svg\" alt=\"Open In Colab\"/>\n",
    "</a>"
   ]
  },
  {
   "cell_type": "markdown",
   "metadata": {
    "id": "-cCaZ1r2tUVA"
   },
   "source": [
    "# The Thematic map\n",
    "\n",
    "Last session we created a file with several layers:"
   ]
  },
  {
   "cell_type": "code",
   "execution_count": null,
   "metadata": {
    "colab": {
     "base_uri": "https://localhost:8080/",
     "height": 424
    },
    "id": "iWx-Vj4xEmwD",
    "outputId": "befa2e51-e1f0-4266-855e-3d9cc1afdae9"
   },
   "outputs": [],
   "source": [
    "import geopandas as gpd\n",
    "\n",
    "linkGit='https://github.com/DACSS-Spatial/data_forSpatial/raw/refs/heads/main/'\n",
    "linkWorldMaps='WORLD/worldMaps.gpkg'"
   ]
  },
  {
   "cell_type": "markdown",
   "metadata": {},
   "source": [
    "We can easily find out the layers in that geopackage file (**worldMaps.gpkg**):"
   ]
  },
  {
   "cell_type": "code",
   "execution_count": null,
   "metadata": {},
   "outputs": [],
   "source": [
    "gpd.list_layers(linkGit+linkWorldMaps)"
   ]
  },
  {
   "cell_type": "markdown",
   "metadata": {},
   "source": [
    "For the thematics we will retrieve only one layer (map):"
   ]
  },
  {
   "cell_type": "code",
   "execution_count": null,
   "metadata": {},
   "outputs": [],
   "source": [
    "countries=gpd.read_file(linkGit+linkWorldMaps,layer='countries')"
   ]
  },
  {
   "cell_type": "code",
   "execution_count": null,
   "metadata": {},
   "outputs": [],
   "source": [
    "# see some\n",
    "countries"
   ]
  },
  {
   "cell_type": "markdown",
   "metadata": {
    "id": "7Tm4ECPFEmwE"
   },
   "source": [
    "As you see, the GDF above has just two colums; enough to plot a map, but no more than that.\n",
    "\n",
    "Let me open a DF:"
   ]
  },
  {
   "cell_type": "code",
   "execution_count": null,
   "metadata": {
    "colab": {
     "base_uri": "https://localhost:8080/"
    },
    "id": "Usm5FT0hEmwE",
    "outputId": "0f4fc252-86d9-4494-bea3-16d74bf63d21"
   },
   "outputs": [],
   "source": [
    "import pandas as pd\n",
    "\n",
    "someDataLink='WORLD/some_dataworld.csv'\n",
    "\n",
    "someData=pd.read_csv(linkGit+someDataLink)\n",
    "\n",
    "## data available\n",
    "someData.info()"
   ]
  },
  {
   "cell_type": "markdown",
   "metadata": {
    "id": "eWlO6ncUEmwE"
   },
   "source": [
    "The DF has some interesting numerical data (_float64_):\n",
    "* fragility: fragility index 2023 -[details here](https://fragilestatesindex.org/2023/06/14/fragile-states-index-2023-annual-report/)\n",
    "* co2: metric tonnes of CO2 emmitted -[details here](https://www.cia.gov/the-world-factbook/field/carbon-dioxide-emissions/country-comparison/)\n",
    "* sq_km: country area -[details here](https://www.cia.gov/the-world-factbook/field/area/country-comparison/)\n",
    "* num_airports: count of airports in the country -[details here](https://www.cia.gov/the-world-factbook/field/airports/country-comparison/)\n",
    "* population: country population  -[details here](https://www.cia.gov/the-world-factbook/field/population/country-comparison/)\n",
    "* mobiles: total number of mobile cellular telephone subscribers -[details here](https://www.cia.gov/the-world-factbook/field/telephones-mobile-cellular/country-comparison/)\n",
    "\n",
    "There are also other columns that may be of help:"
   ]
  },
  {
   "cell_type": "code",
   "execution_count": null,
   "metadata": {
    "colab": {
     "base_uri": "https://localhost:8080/",
     "height": 206
    },
    "id": "zR7A3vxAEmwE",
    "outputId": "79a404fc-8e35-4aeb-a702-612063a3dd48"
   },
   "outputs": [],
   "source": [
    "someData.head()"
   ]
  },
  {
   "cell_type": "markdown",
   "metadata": {
    "id": "fm91BTWJEmwE"
   },
   "source": [
    "Preparing thematic maps requires **social data** _about_ the geometry (line, polygon, point). The object **countries** has no social data, so the preprocessing requires merging the DF into the GDF.\n",
    "\n",
    "Merging is not a trivial process. For this case, it even required fuzzy merging.  You may see the process in this [GoogleColab notebook](https://colab.research.google.com/drive/1iGTr8z1Bo8sitgg7uNcKh33pwleymb8O?usp=sharing).\n",
    "\n",
    "This is the file produced on the Colab notebook:"
   ]
  },
  {
   "cell_type": "code",
   "execution_count": null,
   "metadata": {},
   "outputs": [],
   "source": [
    "linkToIndicators=\"https://github.com/DACSS-Spatial/data_forSpatial/raw/refs/heads/main/WORLD/worldindicators.json\"\n",
    "theMapAndData=gpd.read_file(linkToIndicators)\n",
    "theMapAndData.info()"
   ]
  },
  {
   "cell_type": "markdown",
   "metadata": {},
   "source": [
    "As you see, the columns from the DF (_someData_) are now part of the GDF (_countries_), that is now in this new GDF _theMapAndData_."
   ]
  },
  {
   "cell_type": "markdown",
   "metadata": {},
   "source": [
    "# Thematics: the DDM (Dot Density Map)\n",
    "\n",
    "You have a DDM if you use dot to show comparatively which polygon of a map has 'more' (or 'less') of some countable phenomenon of interest. \n",
    "A dot is an aggregated value, but it is constant for each dot.\n",
    "\n",
    "We have the world map, let's keep Africa:"
   ]
  },
  {
   "cell_type": "code",
   "execution_count": null,
   "metadata": {},
   "outputs": [],
   "source": [
    "theMapAndData.region.value_counts()"
   ]
  },
  {
   "cell_type": "markdown",
   "metadata": {},
   "source": [
    "### Preprocessing: Filtering"
   ]
  },
  {
   "cell_type": "code",
   "execution_count": null,
   "metadata": {},
   "outputs": [],
   "source": [
    "# then\n",
    "\n",
    "Africa=theMapAndData[theMapAndData.region=='AFRICA']\n",
    "Africa.plot()"
   ]
  },
  {
   "cell_type": "markdown",
   "metadata": {},
   "source": [
    "A DDM can serve as an effective way to show the distribution of people. The most critical tasks are:\n",
    "\n",
    "* Dot Placement: The dots should be randomly distributed within each polygon to avoid misrepresenting the data.\n",
    "\n",
    "* Dot Unit: Deciding how many people each dot should represent is key for visual clarity. This value should be chosen carefully to avoid oversaturation or sparsity.\n",
    "\n",
    "The size of all dots on the map must be the same to ensure a consistent visual comparison.\n",
    "\n",
    "### Preprocessing: aggregating\n",
    "\n",
    "This is a DOT UNIT proposal:"
   ]
  },
  {
   "cell_type": "code",
   "execution_count": null,
   "metadata": {
    "id": "iay2CMzvEmwL"
   },
   "outputs": [],
   "source": [
    "justDots=Africa.copy()\n",
    "dot_value = 100000\n",
    "justDots['num_dots'] = (justDots['population'] / dot_value).astype(int)"
   ]
  },
  {
   "cell_type": "markdown",
   "metadata": {},
   "source": [
    "### Preprocessing: distributing dots"
   ]
  },
  {
   "cell_type": "markdown",
   "metadata": {},
   "source": [
    "And here, we get a location for the dots:"
   ]
  },
  {
   "cell_type": "code",
   "execution_count": null,
   "metadata": {},
   "outputs": [],
   "source": [
    "# 2. Generate the random dot locations using .sample_points()\n",
    "justDots = justDots.sample_points(size=justDots['num_dots']).explode(index_parts=True)"
   ]
  },
  {
   "cell_type": "markdown",
   "metadata": {
    "id": "7cFJhKo0EmwL"
   },
   "source": [
    "You get this:"
   ]
  },
  {
   "cell_type": "code",
   "execution_count": null,
   "metadata": {
    "id": "qE9aVnrqEmwL",
    "outputId": "4d554b96-a3fa-4e85-96a0-a3446921d47d"
   },
   "outputs": [],
   "source": [
    "justDots"
   ]
  },
  {
   "cell_type": "code",
   "execution_count": null,
   "metadata": {
    "id": "PNwx4JbaEmwL",
    "outputId": "f84ef2da-32b8-4665-9d9e-f083da1ab126"
   },
   "outputs": [],
   "source": [
    "# what is it?\n",
    "type(justDots)"
   ]
  },
  {
   "cell_type": "markdown",
   "metadata": {},
   "source": [
    "### Preprocessing: building GDF from GS"
   ]
  },
  {
   "cell_type": "markdown",
   "metadata": {
    "id": "9eBnrmsbEmwL"
   },
   "source": [
    "Notice the multi index (MI), one for a country and for a dot. As we are planing to send these points to R, we avoid MI:"
   ]
  },
  {
   "cell_type": "code",
   "execution_count": null,
   "metadata": {
    "id": "2NDwWKB1EmwL",
    "outputId": "8107ce4b-c95c-4d40-f22b-507e104ad238"
   },
   "outputs": [],
   "source": [
    "justDots.reset_index(drop=True, inplace=True)\n",
    "Africa_dots=gpd.GeoDataFrame(geometry=justDots)\n",
    "Africa_dots"
   ]
  },
  {
   "cell_type": "markdown",
   "metadata": {},
   "source": [
    "Now you have a GDF:"
   ]
  },
  {
   "cell_type": "code",
   "execution_count": null,
   "metadata": {
    "id": "UKRcvavZEmwL",
    "outputId": "7b0fb7e1-ee3d-4c19-a693-f7ba081fdcc1"
   },
   "outputs": [],
   "source": [
    "Africa_dots.info()"
   ]
  },
  {
   "cell_type": "markdown",
   "metadata": {},
   "source": [
    "Juts plot the polygons as the base, and the points as the layer on top!"
   ]
  },
  {
   "cell_type": "code",
   "execution_count": null,
   "metadata": {
    "id": "fVM-tkhDEmwM",
    "outputId": "7e2c444f-574f-4211-ab2b-a0d3eb1a43f2"
   },
   "outputs": [],
   "source": [
    "base=Africa.plot(facecolor=\"white\",#color of polygon fill\n",
    "               edgecolor='grey') #color of border                \n",
    "Africa_dots.plot(markersize=0.05, color='red',ax=base)"
   ]
  },
  {
   "cell_type": "markdown",
   "metadata": {},
   "source": [
    "It is generally recommended that DDMs use an **equal-area projection**, which benefits density and limits area distortion."
   ]
  },
  {
   "cell_type": "code",
   "execution_count": null,
   "metadata": {},
   "outputs": [],
   "source": [
    "base=Africa.to_crs(8857).plot(facecolor=\"white\",\n",
    "                              edgecolor='grey')\n",
    "Africa_dots.to_crs(8857).plot(markersize=0.05, color='red',ax=base)"
   ]
  },
  {
   "cell_type": "markdown",
   "metadata": {},
   "source": [
    "Let's keep the continent countries with that crs:"
   ]
  },
  {
   "cell_type": "code",
   "execution_count": null,
   "metadata": {},
   "outputs": [],
   "source": [
    "Africa_8857=Africa.to_crs(8857)\n",
    "Africa_dots_8857=Africa_dots.to_crs(8857)"
   ]
  },
  {
   "cell_type": "markdown",
   "metadata": {},
   "source": [
    "# Thematics: the PSM (Proportional Symbol Map)\n",
    "\n",
    "You have a PSM if you use a symbol (generally a circle) to show the distribution of a variable per location.\n",
    "The symbol is an aggregated raw value, and its size varies according to those values. So now we need:"
   ]
  },
  {
   "cell_type": "markdown",
   "metadata": {},
   "source": [
    "### Preprocessing: GDF of centroids\n",
    "\n",
    "1. A location for a symbol, generally the polygon centroid."
   ]
  },
  {
   "cell_type": "code",
   "execution_count": null,
   "metadata": {},
   "outputs": [],
   "source": [
    "Africa_8857_centroids = Africa_8857.copy()\n",
    "\n",
    "# Africa_8857_centroids will have a new geometry:\n",
    "Africa_8857_centroids['geometry'] = Africa_8857_centroids['geometry'].centroid"
   ]
  },
  {
   "cell_type": "markdown",
   "metadata": {},
   "source": [
    "2. A size of varying values (not constant as in DDMs). Let's use population again."
   ]
  },
  {
   "cell_type": "code",
   "execution_count": null,
   "metadata": {},
   "outputs": [],
   "source": [
    "Africa_8857_centroids['size'] = Africa_8857_centroids['population'].apply(lambda x: x**0.5/100)\n",
    "\n",
    "## or\n",
    "# import numpy as np\n",
    "# Africa_8857_centroids['size'] = Africa_8857_centroids['population'].apply(lambda x: np.log10(x))"
   ]
  },
  {
   "cell_type": "markdown",
   "metadata": {},
   "source": [
    "We got the basics, then:"
   ]
  },
  {
   "cell_type": "code",
   "execution_count": null,
   "metadata": {},
   "outputs": [],
   "source": [
    "base=Africa_8857.plot(facecolor=\"white\",\n",
    "                      edgecolor='grey')\n",
    "# Plot the centroids on top\n",
    "Africa_8857_centroids.plot(\n",
    "    ax=base,\n",
    "    markersize=Africa_8857_centroids['size'],\n",
    "    color='grey'\n",
    ")"
   ]
  },
  {
   "cell_type": "markdown",
   "metadata": {},
   "source": [
    "### Preprocessing: Computing new columns\n",
    "\n",
    "PPMs are not thematic maps to see precise values, but to reveal clear differences on the variable distribution used. As, human eyes are very limited to detect area differences, we may need to use some other tactics to help uncover some patterns.\n",
    "\n",
    "For example, let's confirm if we have outliers:"
   ]
  },
  {
   "cell_type": "code",
   "execution_count": null,
   "metadata": {},
   "outputs": [],
   "source": [
    "boxplotInfo=Africa_8857_centroids.boxplot(column='population',return_type=\"dict\")"
   ]
  },
  {
   "cell_type": "markdown",
   "metadata": {},
   "source": [
    "The object **boxplotInfo** showed the boxplot, and we confirm there are outliers. We can recover them like this:"
   ]
  },
  {
   "cell_type": "code",
   "execution_count": null,
   "metadata": {},
   "outputs": [],
   "source": [
    "outliers=boxplotInfo['fliers'][0].get_ydata()\n",
    "## see\n",
    "outliers"
   ]
  },
  {
   "cell_type": "markdown",
   "metadata": {},
   "source": [
    "Then, these are the outlying countries:"
   ]
  },
  {
   "cell_type": "code",
   "execution_count": null,
   "metadata": {},
   "outputs": [],
   "source": [
    "Africa_8857_centroids[Africa_8857_centroids.population.isin(outliers)]"
   ]
  },
  {
   "cell_type": "markdown",
   "metadata": {},
   "source": [
    "Knowing this information, we can create a column as outlier flag:"
   ]
  },
  {
   "cell_type": "code",
   "execution_count": null,
   "metadata": {},
   "outputs": [],
   "source": [
    "Africa_8857_centroids['population_outlier']=Africa_8857_centroids.population.isin(outliers)*1\n",
    "\n",
    "## see\n",
    "Africa_8857_centroids"
   ]
  },
  {
   "cell_type": "markdown",
   "metadata": {},
   "source": [
    "We can use that like this:"
   ]
  },
  {
   "cell_type": "code",
   "execution_count": null,
   "metadata": {},
   "outputs": [],
   "source": [
    "base = Africa_8857.plot(color='white', edgecolor='black', figsize=(10,10))\n",
    "\n",
    "# Define your color map\n",
    "mapcolor = {1: 'black', 0: 'lightgrey'}\n",
    "\n",
    "# Plot the centroids on top\n",
    "Africa_8857_centroids.plot(\n",
    "    ax=base,\n",
    "    markersize=Africa_8857_centroids['size'],\n",
    "    color=Africa_8857_centroids['population_outlier'].map(mapcolor)\n",
    ")"
   ]
  },
  {
   "cell_type": "markdown",
   "metadata": {},
   "source": [
    "Here, we do a good job for outliers, but it is difficult to interprete the other ones. We could use some redundancy, but more work is needed:\n",
    "1. Create two maps of centroids:"
   ]
  },
  {
   "cell_type": "code",
   "execution_count": null,
   "metadata": {},
   "outputs": [],
   "source": [
    "# Create explicit copies of the DataFrames\n",
    "Africa_8857_centroids_out = Africa_8857_centroids[Africa_8857_centroids.population_outlier==1].copy()\n",
    "Africa_8857_centroids_no_out = Africa_8857_centroids[Africa_8857_centroids.population_outlier==0].copy()\n"
   ]
  },
  {
   "cell_type": "markdown",
   "metadata": {},
   "source": [
    "2. Compute sizes in each:"
   ]
  },
  {
   "cell_type": "code",
   "execution_count": null,
   "metadata": {},
   "outputs": [],
   "source": [
    "Africa_8857_centroids_out['size'] = Africa_8857_centroids_out['population'].apply(lambda x: x**0.5 / 50)\n",
    "Africa_8857_centroids_no_out['size'] = Africa_8857_centroids_no_out['population'].apply(lambda x: x**0.5 / 50)"
   ]
  },
  {
   "cell_type": "markdown",
   "metadata": {},
   "source": [
    "Now, plot the three layers, using some color gradient for the non-outliers:"
   ]
  },
  {
   "cell_type": "code",
   "execution_count": null,
   "metadata": {},
   "outputs": [],
   "source": [
    "base=Africa_8857.plot(color='white', edgecolor='grey',figsize=(10,10)) \n",
    "\n",
    "Africa_8857_centroids_no_out.plot(\n",
    "    ax=base,\n",
    "    markersize=Africa_8857_centroids_no_out['size'],\n",
    "    edgecolor='grey',\n",
    "    c=Africa_8857_centroids_no_out['size'],\n",
    "    cmap='Blues_r'\n",
    ")\n",
    "Africa_8857_centroids_out.plot(\n",
    "    ax=base,\n",
    "    markersize=Africa_8857_centroids_out['size'],\n",
    "    color='orange'\n",
    ")"
   ]
  },
  {
   "cell_type": "markdown",
   "metadata": {
    "id": "mZicl2ut911H"
   },
   "source": [
    "# Thematics: Choropleths\n",
    "\n",
    "Notice that the DDMs may use aggregated counts, and the PSMs use the variables in its original form. Choropleths will 'paint' the whole polygon and as noticed in PSMs, we have to be very careful when using color in shape, as the area itself is a confounding. To control this visual artifact, the variable must be normalized, that is, divided by a value correlated with the area. \n",
    "\n",
    "Then, for this course, a choropleth is a normalized representation of data.\n",
    "\n",
    "Following our definition:\n",
    "\n",
    "* This is **NOT** a choropleth:\n"
   ]
  },
  {
   "cell_type": "code",
   "execution_count": null,
   "metadata": {
    "id": "4KpqfrRB911H"
   },
   "outputs": [],
   "source": [
    "Africa_8857.plot(Africa_8857.population)"
   ]
  },
  {
   "cell_type": "markdown",
   "metadata": {},
   "source": [
    "* * This **IS** a choropleth:"
   ]
  },
  {
   "cell_type": "code",
   "execution_count": null,
   "metadata": {},
   "outputs": [],
   "source": [
    "Africa_8857.plot(Africa_8857.population/Africa_8857.sq_km)"
   ]
  },
  {
   "cell_type": "markdown",
   "metadata": {
    "id": "la4Wko9duich"
   },
   "source": [
    "Choropleths are great to represent normalized indicators such as:\n",
    "* Densities\n",
    "* Ratios\n",
    "* Rates\n",
    "* Averages\n",
    "\n",
    "Population by area is a density indicator. This is a real number (not an integer), so most of the time the color gradient might  not be \n",
    "that useful to reveal some pattern visually. Then, we often discretize (or bin) the indicator computed."
   ]
  },
  {
   "cell_type": "markdown",
   "metadata": {
    "id": "Mvu1FQMh911J"
   },
   "source": [
    "### Preprocessing: Discretizing"
   ]
  },
  {
   "cell_type": "markdown",
   "metadata": {
    "id": "UHh74IeT911J"
   },
   "source": [
    "Now, we want to cut the variable. Run the next code to make sure you have tose packages:"
   ]
  },
  {
   "cell_type": "code",
   "execution_count": null,
   "metadata": {
    "id": "pSSN_XDv911K"
   },
   "outputs": [],
   "source": [
    "## do you have these installed?\n",
    "# ! pip show numba mapclassify numpy"
   ]
  },
  {
   "cell_type": "markdown",
   "metadata": {
    "id": "XifM5dIB911K"
   },
   "source": [
    "We will discretize this:"
   ]
  },
  {
   "cell_type": "code",
   "execution_count": null,
   "metadata": {},
   "outputs": [],
   "source": [
    "Africa_8857['population_density']=Africa_8857.population/Africa_8857.sq_km"
   ]
  },
  {
   "cell_type": "markdown",
   "metadata": {},
   "source": [
    "Let's explore the bining algorithms:"
   ]
  },
  {
   "cell_type": "code",
   "execution_count": null,
   "metadata": {
    "id": "CvipvzA1911K"
   },
   "outputs": [],
   "source": [
    "import mapclassify\n",
    "import numpy as np\n",
    "\n",
    "np.random.seed(12345) # so we all get the same results!\n",
    "\n",
    "# let's try 5 intervals\n",
    "K=5\n",
    "theVar=Africa_8857['population_density']\n",
    "# same interval width, easy interpretation\n",
    "ei5 = mapclassify.EqualInterval(theVar, k=K)\n",
    "# same interval width based on standard deviation, easy - but not as the previous one, poor when high skewness\n",
    "msd = mapclassify.StdMean(theVar)\n",
    "# interval width varies, counts per interval are close, not easy to grasp, repeated values complicate cuts\n",
    "q5=mapclassify.Quantiles(theVar,k=K)\n",
    "\n",
    "# based on similarity, good for multimodal data\n",
    "mb5 = mapclassify.MaximumBreaks(theVar, k=K)\n",
    "# based on similarity, good for skewed data\n",
    "ht = mapclassify.HeadTailBreaks(theVar) # no K needed\n",
    "# based on similarity, optimizer\n",
    "fj5 = mapclassify.FisherJenks(theVar, k=K)\n",
    "# based on similarity, optimizer\n",
    "jc5 = mapclassify.JenksCaspall(theVar, k=K)\n",
    "# based on similarity, optimizer\n",
    "mp5 = mapclassify.MaxP(theVar, k=K)"
   ]
  },
  {
   "cell_type": "markdown",
   "metadata": {
    "id": "jMjS1bE0911K"
   },
   "source": [
    "How can we select the right classification?\n",
    "Let me use the the Absolute deviation around class median (ADCM) to make the comparisson:"
   ]
  },
  {
   "cell_type": "code",
   "execution_count": null,
   "metadata": {
    "id": "bKvo0_cQ911K"
   },
   "outputs": [],
   "source": [
    "class5 = ei5,msd, q5,mb5,  ht, fj5, jc5, mp5\n",
    "# Collect ADCM for each classifier\n",
    "fits = np.array([ c.adcm for c in class5])\n",
    "# Convert ADCM scores to a DataFrame\n",
    "adcms = pd.DataFrame(fits)\n",
    "# Add classifier names\n",
    "adcms['classifier'] = [c.name for c in class5]\n",
    "# Add column names to the ADCM\n",
    "adcms.columns = ['ADCM', 'Classifier']"
   ]
  },
  {
   "cell_type": "markdown",
   "metadata": {
    "id": "anEyZGV6911L"
   },
   "source": [
    "Now, plot the **adcms**:"
   ]
  },
  {
   "cell_type": "code",
   "execution_count": null,
   "metadata": {
    "id": "TnYEkaJf911L"
   },
   "outputs": [],
   "source": [
    "adcms.sort_values('ADCM').plot.barh(x='Classifier')"
   ]
  },
  {
   "cell_type": "markdown",
   "metadata": {
    "id": "v22izWrv911L"
   },
   "source": [
    "Let's save the best strategy:"
   ]
  },
  {
   "cell_type": "code",
   "execution_count": null,
   "metadata": {
    "id": "QVab2hAl911L"
   },
   "outputs": [],
   "source": [
    "Africa_8857['population_density_FJ5'] = fj5.yb"
   ]
  },
  {
   "cell_type": "code",
   "execution_count": null,
   "metadata": {
    "id": "NlOeXrph911L"
   },
   "outputs": [],
   "source": [
    "# there you are\n",
    "Africa_8857[['population_density','population_density_FJ5']].head(20)"
   ]
  },
  {
   "cell_type": "markdown",
   "metadata": {
    "id": "eZdX-5M4911L"
   },
   "source": [
    "We could create a copy of the bins to add labels:"
   ]
  },
  {
   "cell_type": "code",
   "execution_count": null,
   "metadata": {
    "id": "5GT4XA4C911P"
   },
   "outputs": [],
   "source": [
    "# renaming\n",
    "newLabelsForLevels={0:\"0_VeryLow\", 1:\"1_Low\", 2:\"2_Middle\", 3:\"3_High\", 4:\"4_VeryHigh\"}\n",
    "\n",
    "Africa_8857['population_density_FJ5_cat']=Africa_8857.loc[:,'population_density_FJ5'].replace(newLabelsForLevels)\n",
    "\n",
    "# we have\n",
    "Africa_8857[['population_density','population_density_FJ5','population_density_FJ5_cat']].head(20)"
   ]
  },
  {
   "cell_type": "markdown",
   "metadata": {
    "id": "WMBgSJUw911P"
   },
   "source": [
    "We are ready for a discrete choropleth:"
   ]
  },
  {
   "cell_type": "code",
   "execution_count": null,
   "metadata": {
    "id": "0BIR7WUe911P"
   },
   "outputs": [],
   "source": [
    "import matplotlib.pyplot as plt\n",
    "\n",
    "f, ax = plt.subplots(1, figsize=(10, 10))\n",
    "Africa_8857.plot(column='population_density_FJ5_cat', # variable to plot\n",
    "                 cmap='viridis_r', # set of colors\n",
    "                 categorical=True, # can be interpreted as category\n",
    "                 edgecolor='grey', # border color\n",
    "                 linewidth=0.3, # width of border\n",
    "                 legend=True, # need a legend?                   \n",
    "                 ax=ax\n",
    "       )\n",
    "\n",
    "ax.set_axis_off()"
   ]
  },
  {
   "cell_type": "markdown",
   "metadata": {},
   "source": [
    "# Saving\n",
    "\n",
    "Let's save this maps for R."
   ]
  },
  {
   "cell_type": "code",
   "execution_count": null,
   "metadata": {},
   "outputs": [],
   "source": [
    "## Good practice to refresh your memory\n",
    "\n",
    "## Find only GeoDataFrames in the current session\n",
    "geodataframe_list = [var for var in globals() if isinstance(globals()[var], gpd.GeoDataFrame)]\n",
    "\n",
    "print(\"List of GeoDataFrames in memory:\")\n",
    "for name in geodataframe_list:\n",
    "    print(name)"
   ]
  },
  {
   "cell_type": "markdown",
   "metadata": {},
   "source": [
    "These are the ones needed in R:"
   ]
  },
  {
   "cell_type": "code",
   "execution_count": null,
   "metadata": {},
   "outputs": [],
   "source": [
    "# for choropleth and base map\n",
    "Africa_8857.info()"
   ]
  },
  {
   "cell_type": "code",
   "execution_count": null,
   "metadata": {},
   "outputs": [],
   "source": [
    "# for DDMs\n",
    "Africa_dots_8857.info()"
   ]
  },
  {
   "cell_type": "code",
   "execution_count": null,
   "metadata": {},
   "outputs": [],
   "source": [
    "# for PSMs\n",
    "Africa_8857_centroids.info()"
   ]
  },
  {
   "cell_type": "code",
   "execution_count": null,
   "metadata": {},
   "outputs": [],
   "source": [
    "# for PSMs\n",
    "Africa_8857_centroids_out.info()"
   ]
  },
  {
   "cell_type": "code",
   "execution_count": null,
   "metadata": {},
   "outputs": [],
   "source": [
    "# for PSMs\n",
    "Africa_8857_centroids_no_out.info()"
   ]
  },
  {
   "cell_type": "markdown",
   "metadata": {},
   "source": [
    "The file **africa_8857.gpkg** will keep all those maps as layers!"
   ]
  },
  {
   "cell_type": "code",
   "execution_count": null,
   "metadata": {},
   "outputs": [],
   "source": [
    "Africa_8857.to_file(\"africa_8857.gpkg\",driver='GPKG',layer='continent')\n",
    "Africa_dots_8857.to_file(\"africa_8857.gpkg\",driver='GPKG',layer='population_ddm')\n",
    "Africa_8857_centroids.to_file(\"africa_8857.gpkg\",driver='GPKG',layer='population_psm')\n",
    "Africa_8857_centroids_out.to_file(\"africa_8857.gpkg\",driver='GPKG',layer='outlier_population_psm')\n",
    "Africa_8857_centroids_no_out.to_file(\"africa_8857.gpkg\",driver='GPKG',layer='no_outlier_population_psm')"
   ]
  },
  {
   "cell_type": "code",
   "execution_count": null,
   "metadata": {},
   "outputs": [],
   "source": []
  }
 ],
 "metadata": {
  "anaconda-cloud": {
   "attach-environment": true,
   "summary": "test"
  },
  "colab": {
   "provenance": []
  },
  "hide_input": false,
  "kernelspec": {
   "display_name": "Python 3 (ipykernel)",
   "language": "python",
   "name": "python3"
  },
  "language_info": {
   "codemirror_mode": {
    "name": "ipython",
    "version": 3
   },
   "file_extension": ".py",
   "mimetype": "text/x-python",
   "name": "python",
   "nbconvert_exporter": "python",
   "pygments_lexer": "ipython3",
   "version": "3.11.13"
  },
  "toc-autonumbering": false
 },
 "nbformat": 4,
 "nbformat_minor": 4
}
