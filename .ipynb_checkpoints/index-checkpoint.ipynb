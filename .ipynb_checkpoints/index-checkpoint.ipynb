{
 "cells": [
  {
   "cell_type": "markdown",
   "metadata": {
    "id": "Rq_-jS9HtUU-"
   },
   "source": [
    "<center><img src=\"https://github.com/DACSS-Spatial/data_forSpatial/raw/main/logo.png\" width=\"700\"></center>\n",
    "\n",
    "<a target=\"_blank\" href=\"https://colab.research.google.com/github/DACSS-Spatial/The-Thematics/blob/main/index.ipynb\">\n",
    "  <img src=\"https://colab.research.google.com/assets/colab-badge.svg\" alt=\"Open In Colab\"/>\n",
    "</a>"
   ]
  },
  {
   "cell_type": "markdown",
   "metadata": {
    "id": "-cCaZ1r2tUVA"
   },
   "source": [
    "# The Thematic map\n",
    "\n",
    "Last session we created a file with several layers:"
   ]
  },
  {
   "cell_type": "code",
   "execution_count": null,
   "metadata": {
    "id": "iWx-Vj4xEmwD",
    "scrolled": true
   },
   "outputs": [],
   "source": [
    "import geopandas as gpd\n",
    "\n",
    "linkGit='https://github.com/DACSS-Spatial/data_forSpatial/raw/refs/heads/main/'\n",
    "linkWorldMaps='WORLD/worldMaps.gpkg'"
   ]
  },
  {
   "cell_type": "markdown",
   "metadata": {
    "id": "oyEGqL-o590W"
   },
   "source": [
    "We can easily find out the layers in that geopackage file (**worldMaps.gpkg**):"
   ]
  },
  {
   "cell_type": "code",
   "execution_count": null,
   "metadata": {
    "id": "7ajknOKx5ppf"
   },
   "outputs": [],
   "source": [
    "gpd.list_layers(linkGit+linkWorldMaps)"
   ]
  },
  {
   "cell_type": "markdown",
   "metadata": {
    "id": "BWhRt9va5ppf"
   },
   "source": [
    "For the thematics we will retrieve only one layer (map):"
   ]
  },
  {
   "cell_type": "code",
   "execution_count": null,
   "metadata": {
    "id": "oSR9Kegk5ppf"
   },
   "outputs": [],
   "source": [
    "countries=gpd.read_file(linkGit+linkWorldMaps,layer='countries')\n",
    "\n",
    "# see some\n",
    "countries"
   ]
  },
  {
   "cell_type": "markdown",
   "metadata": {
    "id": "7Tm4ECPFEmwE"
   },
   "source": [
    "As you see, the GDF above has just two colums; enough to plot a map, but no more than that.\n",
    "\n",
    "Let me open a DF:"
   ]
  },
  {
   "cell_type": "code",
   "execution_count": null,
   "metadata": {
    "id": "Usm5FT0hEmwE"
   },
   "outputs": [],
   "source": [
    "import pandas as pd\n",
    "\n",
    "someDataLink='WORLD/some_dataworld.csv'\n",
    "\n",
    "someData=pd.read_csv(linkGit+someDataLink)\n",
    "\n",
    "## data available\n",
    "someData.info()"
   ]
  },
  {
   "cell_type": "markdown",
   "metadata": {
    "id": "YAfghDZ85ppg"
   },
   "source": [
    "## Pre Processing: Merging"
   ]
  },
  {
   "cell_type": "markdown",
   "metadata": {
    "id": "eWlO6ncUEmwE"
   },
   "source": [
    "The DF has some interesting numerical data (_float64_):\n",
    "* fragility: fragility index 2023 -[details here](https://fragilestatesindex.org/2023/06/14/fragile-states-index-2023-annual-report/)\n",
    "* co2: metric tonnes of CO2 emmitted -[details here](https://www.cia.gov/the-world-factbook/field/carbon-dioxide-emissions/country-comparison/)\n",
    "* sq_km: country area -[details here](https://www.cia.gov/the-world-factbook/field/area/country-comparison/)\n",
    "* num_airports: count of airports in the country -[details here](https://www.cia.gov/the-world-factbook/field/airports/country-comparison/)\n",
    "* population: country population  -[details here](https://www.cia.gov/the-world-factbook/field/population/country-comparison/)\n",
    "* mobiles: total number of mobile cellular telephone subscribers -[details here](https://www.cia.gov/the-world-factbook/field/telephones-mobile-cellular/country-comparison/)\n",
    "\n",
    "There are also other columns that may be of help:"
   ]
  },
  {
   "cell_type": "code",
   "execution_count": null,
   "metadata": {
    "id": "zR7A3vxAEmwE"
   },
   "outputs": [],
   "source": [
    "someData.head()"
   ]
  },
  {
   "cell_type": "markdown",
   "metadata": {
    "id": "fm91BTWJEmwE"
   },
   "source": [
    "Preparing thematic maps requires **social data** about the geometry (line, polygon, point). The \"countries\" geoDF has no social data, so the preprocessing requires merging the DF into the GDF.\n",
    "\n",
    "Merging is not a trivial process. For this case, it will even require fuzzy merging. You may see the full mergin process in this [GoogleColab notebook](https://colab.research.google.com/drive/1iGTr8z1Bo8sitgg7uNcKh33pwleymb8O?usp=sharing).\n",
    "\n",
    "We will use the file produced by that colab notebook"
   ]
  },
  {
   "cell_type": "code",
   "execution_count": null,
   "metadata": {},
   "outputs": [],
   "source": [
    "linkToIndicators=\"https://github.com/DACSS-Spatial/data_forSpatial/raw/refs/heads/main/WORLD/worldindicators.json\"\n",
    "theMapAndData=gpd.read_file(linkToIndicators)\n",
    "theMapAndData.info()"
   ]
  },
  {
   "cell_type": "markdown",
   "metadata": {},
   "source": [
    "As you see, the columns from the DF (someData) are now part of the GDF (countries), that is now in this new GDF theMapAndData."
   ]
  },
  {
   "cell_type": "markdown",
   "metadata": {
    "id": "aqwztVCI5ppn"
   },
   "source": [
    "# Thematics: the DDM (Dot Density Map)\n",
    "\n",
    "You have a DDM if you use **dots** to show comparatively which polygon of a map has 'more' (or 'less') of some countable phenomenon of interest.\n",
    "A dot is an aggregated value, but it is constant for each dot.\n",
    "\n",
    "We have the world map, let's see the regions we have:"
   ]
  },
  {
   "cell_type": "code",
   "execution_count": null,
   "metadata": {
    "id": "DbI7BXpU5ppn"
   },
   "outputs": [],
   "source": [
    "theMapAndData.region.value_counts()"
   ]
  },
  {
   "cell_type": "markdown",
   "metadata": {
    "id": "AA9LCytj5ppn"
   },
   "source": [
    "### Preprocessing: Filtering\n",
    "\n",
    "Let's keep Africa for this session:"
   ]
  },
  {
   "cell_type": "code",
   "execution_count": null,
   "metadata": {
    "id": "5m4yTGMq5ppn"
   },
   "outputs": [],
   "source": [
    "Africa=theMapAndData[theMapAndData.region=='AFRICA']\n",
    "Africa.plot()"
   ]
  },
  {
   "cell_type": "markdown",
   "metadata": {
    "id": "EHVMXUwo5ppn"
   },
   "source": [
    "A DDM can serve as an effective way to show the distribution of people. The most critical tasks are:\n",
    "\n",
    "* Dot Unit: Deciding how many people each dot should represent is key for visual clarity. This value should be chosen carefully to avoid oversaturation or sparsity.\n",
    "\n",
    "* Dot Placement: The dots should be randomly distributed within each polygon to avoid misrepresenting the data.\n",
    "\n",
    "Every dot represents the same amount, then a DDM uses raw counts (non-normalized). The size of all dots on the map are the same, which  ensures a consistent visual comparison."
   ]
  },
  {
   "cell_type": "markdown",
   "metadata": {},
   "source": [
    "### Preprocessing: UNIT of the dots\n",
    "\n",
    "We need to create a map of dots, a new layer. The source will be the Africa polygons we currently have. Let's do that first:"
   ]
  },
  {
   "cell_type": "code",
   "execution_count": null,
   "metadata": {
    "id": "iay2CMzvEmwL"
   },
   "outputs": [],
   "source": [
    "# a copy of Africa\n",
    "temporal_gdf=Africa.copy()\n",
    "\n",
    "# the row names will be the country\n",
    "temporal_gdf.set_index('Country',inplace=True)\n",
    "\n",
    "# we have this now\n",
    "temporal_gdf.head()"
   ]
  },
  {
   "cell_type": "markdown",
   "metadata": {},
   "source": [
    "Let's see the distribution of _population_:"
   ]
  },
  {
   "cell_type": "code",
   "execution_count": null,
   "metadata": {},
   "outputs": [],
   "source": [
    "temporal_gdf.population.describe()"
   ]
  },
  {
   "cell_type": "markdown",
   "metadata": {},
   "source": [
    "Let's add a column to  temporal_gdf a new column, that represents the amount of dots to represent, in this case, population. Here, we propose that a dot represents 10,000 people:"
   ]
  },
  {
   "cell_type": "code",
   "execution_count": null,
   "metadata": {},
   "outputs": [],
   "source": [
    "# creating  column \n",
    "unit_value = 10000 \n",
    "temporal_gdf['num_dots'] = (temporal_gdf['population'] / unit_value).astype(int)\n",
    "\n",
    "# see\n",
    "temporal_gdf['num_dots'].head(10)"
   ]
  },
  {
   "cell_type": "markdown",
   "metadata": {
    "id": "xlbH9Wfy5ppn"
   },
   "source": [
    "### Preprocessing: Dots placement"
   ]
  },
  {
   "cell_type": "markdown",
   "metadata": {
    "id": "V0Pf3PSN5ppn"
   },
   "source": [
    "Since we know how many dots per country polygon we should have, now we need to place that amount of dots within the borders of the polygon:"
   ]
  },
  {
   "cell_type": "code",
   "execution_count": null,
   "metadata": {},
   "outputs": [],
   "source": [
    "# enter 'sample_points()'\n",
    "temporal_gdf.sample_points(size=temporal_gdf['num_dots'],rng=123).head(10)"
   ]
  },
  {
   "cell_type": "code",
   "execution_count": null,
   "metadata": {},
   "outputs": [],
   "source": [
    "# this is the case of Comoros:\n",
    "temporal_gdf.sample_points(size=temporal_gdf['num_dots'],rng=123).loc['COMOROS']"
   ]
  },
  {
   "cell_type": "markdown",
   "metadata": {
    "id": "9ayw6jYx5ppo"
   },
   "source": [
    "### Preprocessing: building GDF from GS"
   ]
  },
  {
   "cell_type": "markdown",
   "metadata": {
    "id": "9eBnrmsbEmwL"
   },
   "source": [
    "The current result:"
   ]
  },
  {
   "cell_type": "code",
   "execution_count": null,
   "metadata": {},
   "outputs": [],
   "source": [
    "type(temporal_gdf.sample_points(size=temporal_gdf['num_dots'],rng=123))"
   ]
  },
  {
   "cell_type": "markdown",
   "metadata": {},
   "source": [
    "As usual, that GeoS is turned into a GeoDF:"
   ]
  },
  {
   "cell_type": "code",
   "execution_count": null,
   "metadata": {
    "id": "2NDwWKB1EmwL"
   },
   "outputs": [],
   "source": [
    "Africa_dots=gpd.GeoDataFrame(geometry=temporal_gdf.sample_points(size=temporal_gdf['num_dots'],rng=123))\n",
    "Africa_dots.head(10)"
   ]
  },
  {
   "cell_type": "markdown",
   "metadata": {
    "id": "jQOz9Jov5ppo"
   },
   "source": [
    "Now you have a GDF:"
   ]
  },
  {
   "cell_type": "code",
   "execution_count": null,
   "metadata": {
    "id": "UKRcvavZEmwL"
   },
   "outputs": [],
   "source": [
    "Africa_dots.info()"
   ]
  },
  {
   "cell_type": "markdown",
   "metadata": {
    "id": "6Uh0D2Np5ppo"
   },
   "source": [
    "Juts plot the polygons as the base, and the points as the layer on top!"
   ]
  },
  {
   "cell_type": "code",
   "execution_count": null,
   "metadata": {
    "id": "fVM-tkhDEmwM"
   },
   "outputs": [],
   "source": [
    "base=Africa.plot(facecolor=\"white\",#color of polygon fill\n",
    "               edgecolor='grey') #color of border\n",
    "Africa_dots.plot(markersize=0.02, color='red',ax=base, alpha=0.2)"
   ]
  },
  {
   "cell_type": "markdown",
   "metadata": {
    "id": "6gdh237a5ppo"
   },
   "source": [
    "It is generally recommended that DDMs use an **equal-area projection**, which benefits density and limits area distortion."
   ]
  },
  {
   "cell_type": "code",
   "execution_count": null,
   "metadata": {
    "id": "it4Vwf-55ppp"
   },
   "outputs": [],
   "source": [
    "base=Africa.to_crs(8857).plot(facecolor=\"white\",\n",
    "                              edgecolor='grey')\n",
    "Africa_dots.to_crs(8857).plot(markersize=0.02, color='red',ax=base, alpha=0.2)"
   ]
  },
  {
   "cell_type": "markdown",
   "metadata": {
    "id": "rt_edd-v5ppp"
   },
   "source": [
    "Let's set our current layers to that crs:"
   ]
  },
  {
   "cell_type": "code",
   "execution_count": null,
   "metadata": {
    "id": "UZviDEnl5ppp"
   },
   "outputs": [],
   "source": [
    "Africa_8857=Africa.to_crs(8857)\n",
    "Africa_dots_8857=Africa_dots.to_crs(8857)"
   ]
  },
  {
   "cell_type": "markdown",
   "metadata": {},
   "source": [
    "### Thinking in R\n",
    "\n",
    "Africa_dots_8857 has a column of multi-points as we know. Shapefiles can not deal with this structure not visual programs in R such as **leaflet**. Then, we need to split those multipoints using **explode()**:"
   ]
  },
  {
   "cell_type": "code",
   "execution_count": null,
   "metadata": {},
   "outputs": [],
   "source": [
    "Africa_dots_8857.explode()"
   ]
  },
  {
   "cell_type": "markdown",
   "metadata": {},
   "source": [
    "We may just need to get rid of the indexes:"
   ]
  },
  {
   "cell_type": "code",
   "execution_count": null,
   "metadata": {},
   "outputs": [],
   "source": [
    "Africa_dots_8857.explode(ignore_index=True)"
   ]
  },
  {
   "cell_type": "code",
   "execution_count": null,
   "metadata": {},
   "outputs": [],
   "source": [
    "# then\n",
    "Africa_dots_8857=Africa_dots_8857.explode(ignore_index=True)"
   ]
  },
  {
   "cell_type": "markdown",
   "metadata": {
    "id": "xsCqTQLj5ppp"
   },
   "source": [
    "# Thematics: the PSM (Proportional Symbol Map)\n",
    "\n",
    "You have a PSM if you use a symbol (generally a circle) to show the distribution of a variable per location.\n",
    "The symbol is an aggregated raw value, and its size varies according to those values. So now we need:"
   ]
  },
  {
   "cell_type": "markdown",
   "metadata": {
    "id": "ka5vdSNp5ppp"
   },
   "source": [
    "### Preprocessing: location for the symbol\n",
    "\n",
    "1. We need one symbol per polygon, an obvious choice is the centroid."
   ]
  },
  {
   "cell_type": "code",
   "execution_count": null,
   "metadata": {
    "id": "rz9JQjro5ppp"
   },
   "outputs": [],
   "source": [
    "Africa_8857_locations = Africa_8857.copy()\n",
    "\n",
    "# Africa_8857_locations will have a new geometry:\n",
    "Africa_8857_locations['geometry'] = Africa_8857_locations['geometry'].centroid"
   ]
  },
  {
   "cell_type": "markdown",
   "metadata": {
    "id": "9JoqkeET5ppp"
   },
   "source": [
    "2. A size of varying values (not constant as in DDMs). Let's use population again."
   ]
  },
  {
   "cell_type": "code",
   "execution_count": null,
   "metadata": {
    "id": "PA_2yR285ppp"
   },
   "outputs": [],
   "source": [
    "Africa_8857_locations['size'] = Africa_8857_locations['population'].apply(lambda x: x**0.5/100)"
   ]
  },
  {
   "cell_type": "markdown",
   "metadata": {
    "id": "LBrRi9_75ppp"
   },
   "source": [
    "We got the basics, then:"
   ]
  },
  {
   "cell_type": "code",
   "execution_count": null,
   "metadata": {
    "id": "eHPTS0sm5ppq"
   },
   "outputs": [],
   "source": [
    "base=Africa_8857.plot(facecolor=\"white\",\n",
    "                      edgecolor='grey')\n",
    "# Plot the centroids on top\n",
    "Africa_8857_locations.plot(\n",
    "    ax=base,\n",
    "    markersize=Africa_8857_locations['size'],\n",
    "    color='grey'\n",
    ")"
   ]
  },
  {
   "cell_type": "markdown",
   "metadata": {},
   "source": [
    "Keep in mind that the standard way of computing centroids may bring some trouble if you have multipolygons (archipelagos?). Let´s plot Seychelles:"
   ]
  },
  {
   "cell_type": "code",
   "execution_count": null,
   "metadata": {},
   "outputs": [],
   "source": [
    "base=Africa_8857[Africa_8857.Country==\"SEYCHELLES\"].explore()\n",
    "Africa_8857_locations[Africa_8857_locations.Country==\"SEYCHELLES\"].explore(m=base,color=\"red\")"
   ]
  },
  {
   "cell_type": "markdown",
   "metadata": {},
   "source": [
    "The location is nowhere within a polygon. An  alternative is **representative_point()**:"
   ]
  },
  {
   "cell_type": "code",
   "execution_count": null,
   "metadata": {},
   "outputs": [],
   "source": [
    "# replace the points\n",
    "Africa_8857_locations[\"geometry\"]=Africa_8857.representative_point()"
   ]
  },
  {
   "cell_type": "markdown",
   "metadata": {},
   "source": [
    "We will keep that last result."
   ]
  },
  {
   "cell_type": "code",
   "execution_count": null,
   "metadata": {},
   "outputs": [],
   "source": [
    "base=Africa_8857[Africa_8857.Country==\"SEYCHELLES\"].explore()\n",
    "Africa_8857_locations[Africa_8857_locations.Country==\"SEYCHELLES\"].explore(m=base,color=\"red\")"
   ]
  },
  {
   "cell_type": "markdown",
   "metadata": {
    "id": "7slzbJtU5ppq"
   },
   "source": [
    "### Preprocessing: Improving visual message\n",
    "\n",
    "PPMs are not thematic maps to see precise values, but to reveal clear differences on the variable distribution used. As, human eyes are very limited to detect area differences, we may need to use some other tactics to help uncover some patterns.\n",
    "\n",
    "For example, let's confirm if we have outliers:"
   ]
  },
  {
   "cell_type": "code",
   "execution_count": null,
   "metadata": {
    "id": "m55ZDpl85ppq"
   },
   "outputs": [],
   "source": [
    "boxplotInfo=Africa_8857_locations.boxplot(column='population',return_type=\"dict\")"
   ]
  },
  {
   "cell_type": "markdown",
   "metadata": {
    "id": "QGPhtQvV5ppq"
   },
   "source": [
    "The object **boxplotInfo** showed the boxplot, and we confirm there are outliers. We can recover them like this:"
   ]
  },
  {
   "cell_type": "code",
   "execution_count": null,
   "metadata": {
    "id": "Mt05cDL_5ppq"
   },
   "outputs": [],
   "source": [
    "outliers=boxplotInfo['fliers'][0].get_ydata()\n",
    "## see\n",
    "outliers"
   ]
  },
  {
   "cell_type": "markdown",
   "metadata": {
    "id": "1zHyd5BE5ppq"
   },
   "source": [
    "Then, these are the outlying countries:"
   ]
  },
  {
   "cell_type": "code",
   "execution_count": null,
   "metadata": {
    "id": "IOj-PSyX5ppq"
   },
   "outputs": [],
   "source": [
    "Africa_8857_locations[Africa_8857_locations.population.isin(outliers)]"
   ]
  },
  {
   "cell_type": "markdown",
   "metadata": {
    "id": "-vMHxIQ55ppq"
   },
   "source": [
    "Knowing this information, we can create a column as outlier flag:"
   ]
  },
  {
   "cell_type": "code",
   "execution_count": null,
   "metadata": {
    "id": "sr7R33B35ppq"
   },
   "outputs": [],
   "source": [
    "Africa_8857_locations['population_outlier']=Africa_8857_locations.population.isin(outliers)*1\n",
    "\n",
    "## see\n",
    "Africa_8857_locations"
   ]
  },
  {
   "cell_type": "markdown",
   "metadata": {
    "id": "R88wmO3R5ppq"
   },
   "source": [
    "We can use that like this:"
   ]
  },
  {
   "cell_type": "code",
   "execution_count": null,
   "metadata": {
    "id": "tXsxixGD5ppq"
   },
   "outputs": [],
   "source": [
    "base = Africa_8857.plot(color='white', edgecolor='black', figsize=(10,10))\n",
    "\n",
    "# Define your color map\n",
    "mapcolor = {1: 'black', 0: 'lightgrey'}\n",
    "\n",
    "# Plot the centroids on top\n",
    "Africa_8857_locations.plot(\n",
    "    ax=base,\n",
    "    markersize=Africa_8857_locations['size'],\n",
    "    color=Africa_8857_locations['population_outlier'].map(mapcolor)\n",
    ")"
   ]
  },
  {
   "cell_type": "markdown",
   "metadata": {
    "id": "T-aiC-z95ppq"
   },
   "source": [
    "Here, we do a good job for outliers, but it is difficult to interprete the other ones. We could use some redundancy, but more work is needed:\n",
    "1. Create two new maps of locations:"
   ]
  },
  {
   "cell_type": "code",
   "execution_count": null,
   "metadata": {
    "id": "kmdNew_l5ppq"
   },
   "outputs": [],
   "source": [
    "# Create explicit copies of the DataFrames\n",
    "Africa_8857_locations_out = Africa_8857_locations[Africa_8857_locations.population_outlier==1].copy()\n",
    "Africa_8857_locations_no_out = Africa_8857_locations[Africa_8857_locations.population_outlier==0].copy()"
   ]
  },
  {
   "cell_type": "markdown",
   "metadata": {
    "id": "xahYgH_j5ppr"
   },
   "source": [
    "2. Re plot the three layers, using some color gradient for the non-outliers:"
   ]
  },
  {
   "cell_type": "code",
   "execution_count": null,
   "metadata": {
    "id": "h4uNOd4R5ppr"
   },
   "outputs": [],
   "source": [
    "base=Africa_8857.plot(color='white', edgecolor='grey',figsize=(10,10))\n",
    "\n",
    "Africa_8857_locations_no_out.plot(\n",
    "    ax=base,\n",
    "    markersize=Africa_8857_locations_no_out['size'],\n",
    "    edgecolor='grey',\n",
    "    c=Africa_8857_locations_no_out['size'],\n",
    "    cmap='Blues_r'\n",
    ")\n",
    "Africa_8857_locations_out.plot(\n",
    "    ax=base,\n",
    "    markersize=Africa_8857_locations_out['size'],\n",
    "    color='orange'\n",
    ")"
   ]
  },
  {
   "cell_type": "markdown",
   "metadata": {
    "id": "mZicl2ut911H"
   },
   "source": [
    "# Thematics: Choropleths\n",
    "\n",
    "Notice that we do not normalized DDMs nor PSMs: data is just a count or a representation of counts. Choropleths will 'paint' the whole polygon and as noticed in PSMs, we have to be very careful when using color in shape, as the area itself is a confounding. To control this visual artifact, the variable must be normalized, that is, divided by a value correlated with the area.\n",
    "\n",
    "Then, for this course, a choropleth is a normalized representation of data.\n",
    "\n",
    "Following our definition:\n",
    "\n",
    "* This is **NOT** a choropleth:\n"
   ]
  },
  {
   "cell_type": "code",
   "execution_count": null,
   "metadata": {
    "id": "4KpqfrRB911H"
   },
   "outputs": [],
   "source": [
    "Africa_8857.plot(Africa_8857.population,cmap=\"YlOrRd\")"
   ]
  },
  {
   "cell_type": "markdown",
   "metadata": {
    "id": "gRAe2g_R5ppr"
   },
   "source": [
    "* This **IS** a choropleth:"
   ]
  },
  {
   "cell_type": "code",
   "execution_count": null,
   "metadata": {
    "id": "bDEqe-Kj5ppr"
   },
   "outputs": [],
   "source": [
    "Africa_8857.plot(Africa_8857.population/Africa_8857.sq_km,cmap=\"YlOrRd\")"
   ]
  },
  {
   "cell_type": "markdown",
   "metadata": {
    "id": "la4Wko9duich"
   },
   "source": [
    "Choropleths are great to represent normalized indicators such as:\n",
    "* Densities\n",
    "* Proportion\n",
    "* Ratios\n",
    "* Averages\n",
    "\n",
    "Population by area is a density indicator. This is a real number (not an integer), so most of the time the color gradient might  not be\n",
    "that useful to reveal some pattern visually. Then, we often discretize (or bin) the indicator computed."
   ]
  },
  {
   "cell_type": "markdown",
   "metadata": {
    "id": "Mvu1FQMh911J"
   },
   "source": [
    "### Preprocessing: Discretizing"
   ]
  },
  {
   "cell_type": "markdown",
   "metadata": {
    "id": "UHh74IeT911J"
   },
   "source": [
    "Now, we want to cut the variable. Run the next code to make sure you have tose packages:"
   ]
  },
  {
   "cell_type": "code",
   "execution_count": null,
   "metadata": {
    "id": "pSSN_XDv911K"
   },
   "outputs": [],
   "source": [
    "## do you have these installed?\n",
    "# ! pip show numba mapclassify numpy"
   ]
  },
  {
   "cell_type": "markdown",
   "metadata": {
    "id": "XifM5dIB911K"
   },
   "source": [
    "We will discretize this:"
   ]
  },
  {
   "cell_type": "code",
   "execution_count": null,
   "metadata": {
    "id": "G6j3Km_f5ppr"
   },
   "outputs": [],
   "source": [
    "Africa_8857['population_density']=Africa_8857.population/Africa_8857.sq_km"
   ]
  },
  {
   "cell_type": "markdown",
   "metadata": {
    "id": "zBNLOG465pps"
   },
   "source": [
    "Let's explore the bining algorithms:"
   ]
  },
  {
   "cell_type": "code",
   "execution_count": null,
   "metadata": {
    "id": "CvipvzA1911K"
   },
   "outputs": [],
   "source": [
    "import mapclassify\n",
    "import numpy as np\n",
    "\n",
    "np.random.seed(12345) # so we all get the same results!\n",
    "\n",
    "# let's try 5 intervals\n",
    "K=5\n",
    "theVar=Africa_8857['population_density']\n",
    "\n",
    "# same interval width, easy interpretation\n",
    "ei5 = mapclassify.EqualInterval(theVar, k=K)\n",
    "# same interval width based on standard deviation, easy - but not as the previous one, poor when high skewness\n",
    "msd = mapclassify.StdMean(theVar)\n",
    "# interval width varies, counts per interval are close, not easy to grasp, repeated values complicate cuts\n",
    "q5=mapclassify.Quantiles(theVar,k=K)\n",
    "\n",
    "# based on similarity, good for multimodal data\n",
    "mb5 = mapclassify.MaximumBreaks(theVar, k=K)\n",
    "# based on similarity, good for skewed data\n",
    "ht = mapclassify.HeadTailBreaks(theVar) # no K needed\n",
    "# based on similarity, optimizer\n",
    "fj5 = mapclassify.FisherJenks(theVar, k=K)\n",
    "# based on similarity, optimizer\n",
    "jc5 = mapclassify.JenksCaspall(theVar, k=K)\n",
    "# based on similarity, optimizer\n",
    "mp5 = mapclassify.MaxP(theVar, k=K)"
   ]
  },
  {
   "cell_type": "markdown",
   "metadata": {
    "id": "jMjS1bE0911K"
   },
   "source": [
    "How can we select the right classification?\n",
    "Let me use the the Absolute deviation around class median (ADCM) to make the comparisson:"
   ]
  },
  {
   "cell_type": "code",
   "execution_count": null,
   "metadata": {
    "id": "bKvo0_cQ911K"
   },
   "outputs": [],
   "source": [
    "class5 = ei5,msd, q5,mb5,  ht, fj5, jc5, mp5\n",
    "# Collect ADCM for each classifier\n",
    "fits = np.array([ c.adcm for c in class5])\n",
    "# Convert ADCM scores to a DataFrame\n",
    "adcms = pd.DataFrame(fits)\n",
    "# Add classifier names\n",
    "adcms['classifier'] = [c.name for c in class5]\n",
    "# Add column names to the ADCM\n",
    "adcms.columns = ['ADCM', 'Classifier']"
   ]
  },
  {
   "cell_type": "markdown",
   "metadata": {
    "id": "anEyZGV6911L"
   },
   "source": [
    "Now, plot the **adcms**:"
   ]
  },
  {
   "cell_type": "code",
   "execution_count": null,
   "metadata": {
    "id": "TnYEkaJf911L"
   },
   "outputs": [],
   "source": [
    "adcms.sort_values('ADCM').plot.barh(x='Classifier')"
   ]
  },
  {
   "cell_type": "markdown",
   "metadata": {
    "id": "v22izWrv911L"
   },
   "source": [
    "Let's save the best strategy:"
   ]
  },
  {
   "cell_type": "code",
   "execution_count": null,
   "metadata": {
    "id": "QVab2hAl911L"
   },
   "outputs": [],
   "source": [
    "Africa_8857['population_density_FJ5'] = fj5.yb # yb will give you a numeric label"
   ]
  },
  {
   "cell_type": "code",
   "execution_count": null,
   "metadata": {
    "id": "NlOeXrph911L"
   },
   "outputs": [],
   "source": [
    "# there you are\n",
    "Africa_8857[['population_density','population_density_FJ5']].head(20)"
   ]
  },
  {
   "cell_type": "markdown",
   "metadata": {
    "id": "eZdX-5M4911L"
   },
   "source": [
    "We could create a copy of that column to add descriptive labels:"
   ]
  },
  {
   "cell_type": "code",
   "execution_count": null,
   "metadata": {
    "id": "5GT4XA4C911P"
   },
   "outputs": [],
   "source": [
    "# renaming\n",
    "newLabelsForLevels={0:\"0_VeryLow\", 1:\"1_Low\", 2:\"2_Middle\", 3:\"3_High\", 4:\"4_VeryHigh\"}\n",
    "\n",
    "Africa_8857['population_density_FJ5_cat']=Africa_8857.loc[:,'population_density_FJ5'].replace(newLabelsForLevels)\n",
    "\n",
    "# we have\n",
    "Africa_8857[['population_density','population_density_FJ5','population_density_FJ5_cat']].head(20)"
   ]
  },
  {
   "cell_type": "markdown",
   "metadata": {
    "id": "WMBgSJUw911P"
   },
   "source": [
    "We are ready for a discrete choropleth:"
   ]
  },
  {
   "cell_type": "code",
   "execution_count": null,
   "metadata": {
    "id": "0BIR7WUe911P"
   },
   "outputs": [],
   "source": [
    "import matplotlib.pyplot as plt\n",
    "\n",
    "f, ax = plt.subplots(1, figsize=(10, 10))\n",
    "Africa_8857.plot(column='population_density_FJ5_cat', # variable to plot\n",
    "                 cmap='viridis_r', # set of colors\n",
    "                 categorical=True, # can be interpreted as category\n",
    "                 edgecolor='grey', # border color\n",
    "                 linewidth=0.3, # width of border\n",
    "                 legend=True, # need a legend?\n",
    "                 ax=ax\n",
    "       )\n",
    "\n",
    "ax.set_axis_off()"
   ]
  },
  {
   "cell_type": "markdown",
   "metadata": {
    "id": "arcSz0yJ5ppt"
   },
   "source": [
    "# Saving\n",
    "\n",
    "Let's save these maps for R."
   ]
  },
  {
   "cell_type": "code",
   "execution_count": null,
   "metadata": {
    "id": "lTq5OSOn5ppt"
   },
   "outputs": [],
   "source": [
    "## Good practice to refresh your memory\n",
    "\n",
    "## Find only GeoDataFrames in the current session\n",
    "geodataframe_list = [var for var in globals() if isinstance(globals()[var], gpd.GeoDataFrame)]\n",
    "\n",
    "print(\"List of GeoDataFrames in memory:\")\n",
    "for name in geodataframe_list:\n",
    "    print(name)"
   ]
  },
  {
   "cell_type": "markdown",
   "metadata": {
    "id": "szKzPUeW5ppt"
   },
   "source": [
    "These are the ones needed in R:"
   ]
  },
  {
   "cell_type": "code",
   "execution_count": null,
   "metadata": {
    "id": "rjtVmPGX5ppt"
   },
   "outputs": [],
   "source": [
    "# for choropleth and base map\n",
    "Africa_8857.info()"
   ]
  },
  {
   "cell_type": "code",
   "execution_count": null,
   "metadata": {
    "id": "Drp55fbM5ppt"
   },
   "outputs": [],
   "source": [
    "# for DDMs\n",
    "Africa_dots_8857.info()"
   ]
  },
  {
   "cell_type": "code",
   "execution_count": null,
   "metadata": {
    "id": "iEbIeb945ppt"
   },
   "outputs": [],
   "source": [
    "# for PSMs\n",
    "Africa_8857_locations.info()"
   ]
  },
  {
   "cell_type": "code",
   "execution_count": null,
   "metadata": {
    "id": "jb84DFCO5ppt"
   },
   "outputs": [],
   "source": [
    "# for PSMs\n",
    "Africa_8857_locations_out.info()"
   ]
  },
  {
   "cell_type": "code",
   "execution_count": null,
   "metadata": {
    "id": "Q4crBaKU5ppu"
   },
   "outputs": [],
   "source": [
    "# for PSMs\n",
    "Africa_8857_locations_no_out.info()"
   ]
  },
  {
   "cell_type": "markdown",
   "metadata": {
    "id": "s29vjtOl5ppu"
   },
   "source": [
    "The file **africa_8857.gpkg** will keep all those maps as layers!"
   ]
  },
  {
   "cell_type": "code",
   "execution_count": null,
   "metadata": {
    "id": "2H5vDwCq5ppu"
   },
   "outputs": [],
   "source": [
    "Africa_8857.to_file(\"africa_8857.gpkg\",driver='GPKG',layer='continent')\n",
    "Africa_dots_8857.to_file(\"africa_8857.gpkg\",driver='GPKG',layer='population_ddm')\n",
    "Africa_8857_locations.to_file(\"africa_8857.gpkg\",driver='GPKG',layer='population_psm')\n",
    "Africa_8857_locations_out.to_file(\"africa_8857.gpkg\",driver='GPKG',layer='outlier_population_psm')\n",
    "Africa_8857_locations_no_out.to_file(\"africa_8857.gpkg\",driver='GPKG',layer='no_outlier_population_psm')"
   ]
  }
 ],
 "metadata": {
  "anaconda-cloud": {
   "attach-environment": true,
   "summary": "test"
  },
  "colab": {
   "provenance": []
  },
  "hide_input": false,
  "kernelspec": {
   "display_name": "Python 3 (ipykernel)",
   "language": "python",
   "name": "python3"
  },
  "language_info": {
   "codemirror_mode": {
    "name": "ipython",
    "version": 3
   },
   "file_extension": ".py",
   "mimetype": "text/x-python",
   "name": "python",
   "nbconvert_exporter": "python",
   "pygments_lexer": "ipython3",
   "version": "3.11.13"
  },
  "toc-autonumbering": false
 },
 "nbformat": 4,
 "nbformat_minor": 4
}
